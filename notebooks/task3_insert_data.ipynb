{
 "cells": [
  {
   "cell_type": "code",
   "execution_count": 1,
   "id": "c24a9793-2abf-42cb-8d90-8bfeb0b03788",
   "metadata": {},
   "outputs": [
    {
     "name": "stdout",
     "output_type": "stream",
     "text": [
      "Inserted 3 new banks\n",
      "❌ Error: 'cleaned_review'\n"
     ]
    }
   ],
   "source": [
    "!python ../src/insert_reviews.py"
   ]
  },
  {
   "cell_type": "code",
   "execution_count": null,
   "id": "9798dd1c-4e04-494b-b3a1-3de318940f25",
   "metadata": {},
   "outputs": [],
   "source": []
  }
 ],
 "metadata": {
  "kernelspec": {
   "display_name": "Python (myenv)",
   "language": "python",
   "name": "myenv"
  },
  "language_info": {
   "codemirror_mode": {
    "name": "ipython",
    "version": 3
   },
   "file_extension": ".py",
   "mimetype": "text/x-python",
   "name": "python",
   "nbconvert_exporter": "python",
   "pygments_lexer": "ipython3",
   "version": "3.12.10"
  }
 },
 "nbformat": 4,
 "nbformat_minor": 5
}
